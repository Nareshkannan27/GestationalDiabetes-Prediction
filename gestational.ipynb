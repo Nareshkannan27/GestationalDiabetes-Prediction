{
 "cells": [
  {
   "cell_type": "code",
   "execution_count": 1,
   "id": "92214aa7-ca23-4d68-a6d3-072dd5e79799",
   "metadata": {},
   "outputs": [],
   "source": [
    "import numpy as np\n",
    "import pandas as pd\n",
    "import matplotlib.pyplot as plt\n",
    "import warnings"
   ]
  },
  {
   "cell_type": "code",
   "execution_count": 2,
   "id": "bae26ce7-c59f-406c-aff0-1a5491e4fd02",
   "metadata": {},
   "outputs": [],
   "source": [
    "df=pd.read_csv(\"Gestational.csv\")"
   ]
  },
  {
   "cell_type": "code",
   "execution_count": 3,
   "id": "c6dbc26b-7bb3-477f-9625-d151ac647bf3",
   "metadata": {},
   "outputs": [
    {
     "data": {
      "text/html": [
       "<div>\n",
       "<style scoped>\n",
       "    .dataframe tbody tr th:only-of-type {\n",
       "        vertical-align: middle;\n",
       "    }\n",
       "\n",
       "    .dataframe tbody tr th {\n",
       "        vertical-align: top;\n",
       "    }\n",
       "\n",
       "    .dataframe thead th {\n",
       "        text-align: right;\n",
       "    }\n",
       "</style>\n",
       "<table border=\"1\" class=\"dataframe\">\n",
       "  <thead>\n",
       "    <tr style=\"text-align: right;\">\n",
       "      <th></th>\n",
       "      <th>Case Number</th>\n",
       "      <th>Age</th>\n",
       "      <th>No of Pregnancy</th>\n",
       "      <th>Gestation in previous Pregnancy</th>\n",
       "      <th>BMI</th>\n",
       "      <th>HDL</th>\n",
       "      <th>Family History</th>\n",
       "      <th>unexplained prenetal loss</th>\n",
       "      <th>Large Child or Birth Default</th>\n",
       "      <th>PCOS</th>\n",
       "      <th>Sys BP</th>\n",
       "      <th>Dia BP</th>\n",
       "      <th>OGTT</th>\n",
       "      <th>Hemoglobin</th>\n",
       "      <th>Sedentary Lifestyle</th>\n",
       "      <th>Prediabetes</th>\n",
       "      <th>Class Label(GDM /Non GDM)</th>\n",
       "    </tr>\n",
       "  </thead>\n",
       "  <tbody>\n",
       "    <tr>\n",
       "      <th>0</th>\n",
       "      <td>1</td>\n",
       "      <td>22</td>\n",
       "      <td>2</td>\n",
       "      <td>1</td>\n",
       "      <td>NaN</td>\n",
       "      <td>55.0</td>\n",
       "      <td>0</td>\n",
       "      <td>0</td>\n",
       "      <td>0</td>\n",
       "      <td>0</td>\n",
       "      <td>102.0</td>\n",
       "      <td>69</td>\n",
       "      <td>NaN</td>\n",
       "      <td>12.0</td>\n",
       "      <td>0</td>\n",
       "      <td>0</td>\n",
       "      <td>0</td>\n",
       "    </tr>\n",
       "    <tr>\n",
       "      <th>1</th>\n",
       "      <td>2</td>\n",
       "      <td>26</td>\n",
       "      <td>2</td>\n",
       "      <td>1</td>\n",
       "      <td>NaN</td>\n",
       "      <td>53.0</td>\n",
       "      <td>0</td>\n",
       "      <td>0</td>\n",
       "      <td>0</td>\n",
       "      <td>0</td>\n",
       "      <td>101.0</td>\n",
       "      <td>63</td>\n",
       "      <td>NaN</td>\n",
       "      <td>12.4</td>\n",
       "      <td>0</td>\n",
       "      <td>0</td>\n",
       "      <td>0</td>\n",
       "    </tr>\n",
       "    <tr>\n",
       "      <th>2</th>\n",
       "      <td>3</td>\n",
       "      <td>29</td>\n",
       "      <td>1</td>\n",
       "      <td>0</td>\n",
       "      <td>NaN</td>\n",
       "      <td>50.0</td>\n",
       "      <td>0</td>\n",
       "      <td>0</td>\n",
       "      <td>0</td>\n",
       "      <td>0</td>\n",
       "      <td>118.0</td>\n",
       "      <td>79</td>\n",
       "      <td>NaN</td>\n",
       "      <td>14.3</td>\n",
       "      <td>0</td>\n",
       "      <td>0</td>\n",
       "      <td>0</td>\n",
       "    </tr>\n",
       "    <tr>\n",
       "      <th>3</th>\n",
       "      <td>4</td>\n",
       "      <td>28</td>\n",
       "      <td>2</td>\n",
       "      <td>1</td>\n",
       "      <td>NaN</td>\n",
       "      <td>51.0</td>\n",
       "      <td>0</td>\n",
       "      <td>0</td>\n",
       "      <td>0</td>\n",
       "      <td>0</td>\n",
       "      <td>99.0</td>\n",
       "      <td>70</td>\n",
       "      <td>NaN</td>\n",
       "      <td>15.0</td>\n",
       "      <td>0</td>\n",
       "      <td>0</td>\n",
       "      <td>0</td>\n",
       "    </tr>\n",
       "    <tr>\n",
       "      <th>4</th>\n",
       "      <td>5</td>\n",
       "      <td>21</td>\n",
       "      <td>2</td>\n",
       "      <td>1</td>\n",
       "      <td>NaN</td>\n",
       "      <td>52.0</td>\n",
       "      <td>0</td>\n",
       "      <td>0</td>\n",
       "      <td>0</td>\n",
       "      <td>0</td>\n",
       "      <td>116.0</td>\n",
       "      <td>65</td>\n",
       "      <td>NaN</td>\n",
       "      <td>15.0</td>\n",
       "      <td>0</td>\n",
       "      <td>0</td>\n",
       "      <td>0</td>\n",
       "    </tr>\n",
       "    <tr>\n",
       "      <th>...</th>\n",
       "      <td>...</td>\n",
       "      <td>...</td>\n",
       "      <td>...</td>\n",
       "      <td>...</td>\n",
       "      <td>...</td>\n",
       "      <td>...</td>\n",
       "      <td>...</td>\n",
       "      <td>...</td>\n",
       "      <td>...</td>\n",
       "      <td>...</td>\n",
       "      <td>...</td>\n",
       "      <td>...</td>\n",
       "      <td>...</td>\n",
       "      <td>...</td>\n",
       "      <td>...</td>\n",
       "      <td>...</td>\n",
       "      <td>...</td>\n",
       "    </tr>\n",
       "    <tr>\n",
       "      <th>3520</th>\n",
       "      <td>3521</td>\n",
       "      <td>31</td>\n",
       "      <td>4</td>\n",
       "      <td>1</td>\n",
       "      <td>24.1</td>\n",
       "      <td>32.0</td>\n",
       "      <td>0</td>\n",
       "      <td>0</td>\n",
       "      <td>1</td>\n",
       "      <td>0</td>\n",
       "      <td>150.0</td>\n",
       "      <td>107</td>\n",
       "      <td>187.0</td>\n",
       "      <td>13.4</td>\n",
       "      <td>1</td>\n",
       "      <td>1</td>\n",
       "      <td>1</td>\n",
       "    </tr>\n",
       "    <tr>\n",
       "      <th>3521</th>\n",
       "      <td>3522</td>\n",
       "      <td>26</td>\n",
       "      <td>3</td>\n",
       "      <td>1</td>\n",
       "      <td>34.5</td>\n",
       "      <td>43.0</td>\n",
       "      <td>1</td>\n",
       "      <td>1</td>\n",
       "      <td>0</td>\n",
       "      <td>1</td>\n",
       "      <td>166.0</td>\n",
       "      <td>85</td>\n",
       "      <td>164.0</td>\n",
       "      <td>14.2</td>\n",
       "      <td>0</td>\n",
       "      <td>0</td>\n",
       "      <td>1</td>\n",
       "    </tr>\n",
       "    <tr>\n",
       "      <th>3522</th>\n",
       "      <td>3523</td>\n",
       "      <td>35</td>\n",
       "      <td>2</td>\n",
       "      <td>2</td>\n",
       "      <td>23.6</td>\n",
       "      <td>56.0</td>\n",
       "      <td>1</td>\n",
       "      <td>0</td>\n",
       "      <td>1</td>\n",
       "      <td>0</td>\n",
       "      <td>178.0</td>\n",
       "      <td>81</td>\n",
       "      <td>141.0</td>\n",
       "      <td>15.3</td>\n",
       "      <td>0</td>\n",
       "      <td>1</td>\n",
       "      <td>1</td>\n",
       "    </tr>\n",
       "    <tr>\n",
       "      <th>3523</th>\n",
       "      <td>3524</td>\n",
       "      <td>37</td>\n",
       "      <td>2</td>\n",
       "      <td>0</td>\n",
       "      <td>23.3</td>\n",
       "      <td>28.0</td>\n",
       "      <td>1</td>\n",
       "      <td>0</td>\n",
       "      <td>1</td>\n",
       "      <td>1</td>\n",
       "      <td>139.0</td>\n",
       "      <td>115</td>\n",
       "      <td>133.0</td>\n",
       "      <td>13.3</td>\n",
       "      <td>0</td>\n",
       "      <td>1</td>\n",
       "      <td>0</td>\n",
       "    </tr>\n",
       "    <tr>\n",
       "      <th>3524</th>\n",
       "      <td>3525</td>\n",
       "      <td>43</td>\n",
       "      <td>2</td>\n",
       "      <td>0</td>\n",
       "      <td>28.6</td>\n",
       "      <td>30.0</td>\n",
       "      <td>1</td>\n",
       "      <td>1</td>\n",
       "      <td>0</td>\n",
       "      <td>0</td>\n",
       "      <td>121.0</td>\n",
       "      <td>63</td>\n",
       "      <td>179.0</td>\n",
       "      <td>15.8</td>\n",
       "      <td>1</td>\n",
       "      <td>0</td>\n",
       "      <td>0</td>\n",
       "    </tr>\n",
       "  </tbody>\n",
       "</table>\n",
       "<p>3525 rows × 17 columns</p>\n",
       "</div>"
      ],
      "text/plain": [
       "      Case Number  Age  No of Pregnancy  Gestation in previous Pregnancy  \\\n",
       "0               1   22                2                                1   \n",
       "1               2   26                2                                1   \n",
       "2               3   29                1                                0   \n",
       "3               4   28                2                                1   \n",
       "4               5   21                2                                1   \n",
       "...           ...  ...              ...                              ...   \n",
       "3520         3521   31                4                                1   \n",
       "3521         3522   26                3                                1   \n",
       "3522         3523   35                2                                2   \n",
       "3523         3524   37                2                                0   \n",
       "3524         3525   43                2                                0   \n",
       "\n",
       "       BMI   HDL  Family History  unexplained prenetal loss  \\\n",
       "0      NaN  55.0               0                          0   \n",
       "1      NaN  53.0               0                          0   \n",
       "2      NaN  50.0               0                          0   \n",
       "3      NaN  51.0               0                          0   \n",
       "4      NaN  52.0               0                          0   \n",
       "...    ...   ...             ...                        ...   \n",
       "3520  24.1  32.0               0                          0   \n",
       "3521  34.5  43.0               1                          1   \n",
       "3522  23.6  56.0               1                          0   \n",
       "3523  23.3  28.0               1                          0   \n",
       "3524  28.6  30.0               1                          1   \n",
       "\n",
       "      Large Child or Birth Default  PCOS  Sys BP  Dia BP   OGTT  Hemoglobin  \\\n",
       "0                                0     0   102.0      69    NaN        12.0   \n",
       "1                                0     0   101.0      63    NaN        12.4   \n",
       "2                                0     0   118.0      79    NaN        14.3   \n",
       "3                                0     0    99.0      70    NaN        15.0   \n",
       "4                                0     0   116.0      65    NaN        15.0   \n",
       "...                            ...   ...     ...     ...    ...         ...   \n",
       "3520                             1     0   150.0     107  187.0        13.4   \n",
       "3521                             0     1   166.0      85  164.0        14.2   \n",
       "3522                             1     0   178.0      81  141.0        15.3   \n",
       "3523                             1     1   139.0     115  133.0        13.3   \n",
       "3524                             0     0   121.0      63  179.0        15.8   \n",
       "\n",
       "      Sedentary Lifestyle  Prediabetes  Class Label(GDM /Non GDM)  \n",
       "0                       0            0                          0  \n",
       "1                       0            0                          0  \n",
       "2                       0            0                          0  \n",
       "3                       0            0                          0  \n",
       "4                       0            0                          0  \n",
       "...                   ...          ...                        ...  \n",
       "3520                    1            1                          1  \n",
       "3521                    0            0                          1  \n",
       "3522                    0            1                          1  \n",
       "3523                    0            1                          0  \n",
       "3524                    1            0                          0  \n",
       "\n",
       "[3525 rows x 17 columns]"
      ]
     },
     "execution_count": 3,
     "metadata": {},
     "output_type": "execute_result"
    }
   ],
   "source": [
    "df"
   ]
  },
  {
   "cell_type": "code",
   "execution_count": 4,
   "id": "f9cce111-d4d4-4b43-aa1b-7eadda5ee73e",
   "metadata": {},
   "outputs": [
    {
     "data": {
      "text/plain": [
       "Case Number                        False\n",
       "Age                                False\n",
       "No of Pregnancy                    False\n",
       "Gestation in previous Pregnancy    False\n",
       "BMI                                 True\n",
       "HDL                                 True\n",
       "Family History                     False\n",
       "unexplained prenetal loss          False\n",
       "Large Child or Birth Default       False\n",
       "PCOS                               False\n",
       "Sys BP                              True\n",
       "Dia BP                             False\n",
       "OGTT                                True\n",
       "Hemoglobin                         False\n",
       "Sedentary Lifestyle                False\n",
       "Prediabetes                        False\n",
       "Class Label(GDM /Non GDM)          False\n",
       "dtype: bool"
      ]
     },
     "execution_count": 4,
     "metadata": {},
     "output_type": "execute_result"
    }
   ],
   "source": [
    "df.isnull().any()"
   ]
  },
  {
   "cell_type": "code",
   "execution_count": 5,
   "id": "f2717bb8-4d5b-4b85-9d57-d5f68bad2441",
   "metadata": {},
   "outputs": [],
   "source": [
    "mis=df[['BMI','HDL','Sys BP','OGTT']]"
   ]
  },
  {
   "cell_type": "code",
   "execution_count": 6,
   "id": "806fa9f2-f7d3-4174-b63e-92acdeb11d1b",
   "metadata": {},
   "outputs": [
    {
     "data": {
      "text/html": [
       "<div>\n",
       "<style scoped>\n",
       "    .dataframe tbody tr th:only-of-type {\n",
       "        vertical-align: middle;\n",
       "    }\n",
       "\n",
       "    .dataframe tbody tr th {\n",
       "        vertical-align: top;\n",
       "    }\n",
       "\n",
       "    .dataframe thead th {\n",
       "        text-align: right;\n",
       "    }\n",
       "</style>\n",
       "<table border=\"1\" class=\"dataframe\">\n",
       "  <thead>\n",
       "    <tr style=\"text-align: right;\">\n",
       "      <th></th>\n",
       "      <th>BMI</th>\n",
       "      <th>HDL</th>\n",
       "      <th>Sys BP</th>\n",
       "      <th>OGTT</th>\n",
       "    </tr>\n",
       "  </thead>\n",
       "  <tbody>\n",
       "    <tr>\n",
       "      <th>0</th>\n",
       "      <td>NaN</td>\n",
       "      <td>55.0</td>\n",
       "      <td>102.0</td>\n",
       "      <td>NaN</td>\n",
       "    </tr>\n",
       "    <tr>\n",
       "      <th>1</th>\n",
       "      <td>NaN</td>\n",
       "      <td>53.0</td>\n",
       "      <td>101.0</td>\n",
       "      <td>NaN</td>\n",
       "    </tr>\n",
       "    <tr>\n",
       "      <th>2</th>\n",
       "      <td>NaN</td>\n",
       "      <td>50.0</td>\n",
       "      <td>118.0</td>\n",
       "      <td>NaN</td>\n",
       "    </tr>\n",
       "    <tr>\n",
       "      <th>3</th>\n",
       "      <td>NaN</td>\n",
       "      <td>51.0</td>\n",
       "      <td>99.0</td>\n",
       "      <td>NaN</td>\n",
       "    </tr>\n",
       "    <tr>\n",
       "      <th>4</th>\n",
       "      <td>NaN</td>\n",
       "      <td>52.0</td>\n",
       "      <td>116.0</td>\n",
       "      <td>NaN</td>\n",
       "    </tr>\n",
       "    <tr>\n",
       "      <th>...</th>\n",
       "      <td>...</td>\n",
       "      <td>...</td>\n",
       "      <td>...</td>\n",
       "      <td>...</td>\n",
       "    </tr>\n",
       "    <tr>\n",
       "      <th>3520</th>\n",
       "      <td>24.1</td>\n",
       "      <td>32.0</td>\n",
       "      <td>150.0</td>\n",
       "      <td>187.0</td>\n",
       "    </tr>\n",
       "    <tr>\n",
       "      <th>3521</th>\n",
       "      <td>34.5</td>\n",
       "      <td>43.0</td>\n",
       "      <td>166.0</td>\n",
       "      <td>164.0</td>\n",
       "    </tr>\n",
       "    <tr>\n",
       "      <th>3522</th>\n",
       "      <td>23.6</td>\n",
       "      <td>56.0</td>\n",
       "      <td>178.0</td>\n",
       "      <td>141.0</td>\n",
       "    </tr>\n",
       "    <tr>\n",
       "      <th>3523</th>\n",
       "      <td>23.3</td>\n",
       "      <td>28.0</td>\n",
       "      <td>139.0</td>\n",
       "      <td>133.0</td>\n",
       "    </tr>\n",
       "    <tr>\n",
       "      <th>3524</th>\n",
       "      <td>28.6</td>\n",
       "      <td>30.0</td>\n",
       "      <td>121.0</td>\n",
       "      <td>179.0</td>\n",
       "    </tr>\n",
       "  </tbody>\n",
       "</table>\n",
       "<p>3525 rows × 4 columns</p>\n",
       "</div>"
      ],
      "text/plain": [
       "       BMI   HDL  Sys BP   OGTT\n",
       "0      NaN  55.0   102.0    NaN\n",
       "1      NaN  53.0   101.0    NaN\n",
       "2      NaN  50.0   118.0    NaN\n",
       "3      NaN  51.0    99.0    NaN\n",
       "4      NaN  52.0   116.0    NaN\n",
       "...    ...   ...     ...    ...\n",
       "3520  24.1  32.0   150.0  187.0\n",
       "3521  34.5  43.0   166.0  164.0\n",
       "3522  23.6  56.0   178.0  141.0\n",
       "3523  23.3  28.0   139.0  133.0\n",
       "3524  28.6  30.0   121.0  179.0\n",
       "\n",
       "[3525 rows x 4 columns]"
      ]
     },
     "execution_count": 6,
     "metadata": {},
     "output_type": "execute_result"
    }
   ],
   "source": [
    "mis"
   ]
  },
  {
   "cell_type": "code",
   "execution_count": 7,
   "id": "889d4873-3bd1-4d57-8ec9-7b388c4d0fea",
   "metadata": {},
   "outputs": [],
   "source": [
    "from sklearn.impute import SimpleImputer\n",
    "\n",
    "imp = SimpleImputer(missing_values=np.nan, strategy=\"mean\", copy=True)\n",
    "\n",
    "# Fit the imputer to the data\n",
    "imp.fit(mis)\n",
    "\n",
    "# Transform the data to fill missing values\n",
    "mis_imputed = imp.transform(mis)\n",
    "\n",
    "# Replace the original columns in df with the imputed values\n",
    "df[['BMI', 'HDL', 'Sys BP', 'OGTT']] = mis_imputed"
   ]
  },
  {
   "cell_type": "code",
   "execution_count": 8,
   "id": "b5baa706-df79-474c-b579-8005c35bd8cc",
   "metadata": {},
   "outputs": [
    {
     "data": {
      "text/html": [
       "<div>\n",
       "<style scoped>\n",
       "    .dataframe tbody tr th:only-of-type {\n",
       "        vertical-align: middle;\n",
       "    }\n",
       "\n",
       "    .dataframe tbody tr th {\n",
       "        vertical-align: top;\n",
       "    }\n",
       "\n",
       "    .dataframe thead th {\n",
       "        text-align: right;\n",
       "    }\n",
       "</style>\n",
       "<table border=\"1\" class=\"dataframe\">\n",
       "  <thead>\n",
       "    <tr style=\"text-align: right;\">\n",
       "      <th></th>\n",
       "      <th>Case Number</th>\n",
       "      <th>Age</th>\n",
       "      <th>No of Pregnancy</th>\n",
       "      <th>Gestation in previous Pregnancy</th>\n",
       "      <th>BMI</th>\n",
       "      <th>HDL</th>\n",
       "      <th>Family History</th>\n",
       "      <th>unexplained prenetal loss</th>\n",
       "      <th>Large Child or Birth Default</th>\n",
       "      <th>PCOS</th>\n",
       "      <th>Sys BP</th>\n",
       "      <th>Dia BP</th>\n",
       "      <th>OGTT</th>\n",
       "      <th>Hemoglobin</th>\n",
       "      <th>Sedentary Lifestyle</th>\n",
       "      <th>Prediabetes</th>\n",
       "      <th>Class Label(GDM /Non GDM)</th>\n",
       "    </tr>\n",
       "  </thead>\n",
       "  <tbody>\n",
       "    <tr>\n",
       "      <th>0</th>\n",
       "      <td>1</td>\n",
       "      <td>22</td>\n",
       "      <td>2</td>\n",
       "      <td>1</td>\n",
       "      <td>27.854092</td>\n",
       "      <td>55.0</td>\n",
       "      <td>0</td>\n",
       "      <td>0</td>\n",
       "      <td>0</td>\n",
       "      <td>0</td>\n",
       "      <td>102.0</td>\n",
       "      <td>69</td>\n",
       "      <td>170.707503</td>\n",
       "      <td>12.0</td>\n",
       "      <td>0</td>\n",
       "      <td>0</td>\n",
       "      <td>0</td>\n",
       "    </tr>\n",
       "    <tr>\n",
       "      <th>1</th>\n",
       "      <td>2</td>\n",
       "      <td>26</td>\n",
       "      <td>2</td>\n",
       "      <td>1</td>\n",
       "      <td>27.854092</td>\n",
       "      <td>53.0</td>\n",
       "      <td>0</td>\n",
       "      <td>0</td>\n",
       "      <td>0</td>\n",
       "      <td>0</td>\n",
       "      <td>101.0</td>\n",
       "      <td>63</td>\n",
       "      <td>170.707503</td>\n",
       "      <td>12.4</td>\n",
       "      <td>0</td>\n",
       "      <td>0</td>\n",
       "      <td>0</td>\n",
       "    </tr>\n",
       "    <tr>\n",
       "      <th>2</th>\n",
       "      <td>3</td>\n",
       "      <td>29</td>\n",
       "      <td>1</td>\n",
       "      <td>0</td>\n",
       "      <td>27.854092</td>\n",
       "      <td>50.0</td>\n",
       "      <td>0</td>\n",
       "      <td>0</td>\n",
       "      <td>0</td>\n",
       "      <td>0</td>\n",
       "      <td>118.0</td>\n",
       "      <td>79</td>\n",
       "      <td>170.707503</td>\n",
       "      <td>14.3</td>\n",
       "      <td>0</td>\n",
       "      <td>0</td>\n",
       "      <td>0</td>\n",
       "    </tr>\n",
       "    <tr>\n",
       "      <th>3</th>\n",
       "      <td>4</td>\n",
       "      <td>28</td>\n",
       "      <td>2</td>\n",
       "      <td>1</td>\n",
       "      <td>27.854092</td>\n",
       "      <td>51.0</td>\n",
       "      <td>0</td>\n",
       "      <td>0</td>\n",
       "      <td>0</td>\n",
       "      <td>0</td>\n",
       "      <td>99.0</td>\n",
       "      <td>70</td>\n",
       "      <td>170.707503</td>\n",
       "      <td>15.0</td>\n",
       "      <td>0</td>\n",
       "      <td>0</td>\n",
       "      <td>0</td>\n",
       "    </tr>\n",
       "    <tr>\n",
       "      <th>4</th>\n",
       "      <td>5</td>\n",
       "      <td>21</td>\n",
       "      <td>2</td>\n",
       "      <td>1</td>\n",
       "      <td>27.854092</td>\n",
       "      <td>52.0</td>\n",
       "      <td>0</td>\n",
       "      <td>0</td>\n",
       "      <td>0</td>\n",
       "      <td>0</td>\n",
       "      <td>116.0</td>\n",
       "      <td>65</td>\n",
       "      <td>170.707503</td>\n",
       "      <td>15.0</td>\n",
       "      <td>0</td>\n",
       "      <td>0</td>\n",
       "      <td>0</td>\n",
       "    </tr>\n",
       "    <tr>\n",
       "      <th>...</th>\n",
       "      <td>...</td>\n",
       "      <td>...</td>\n",
       "      <td>...</td>\n",
       "      <td>...</td>\n",
       "      <td>...</td>\n",
       "      <td>...</td>\n",
       "      <td>...</td>\n",
       "      <td>...</td>\n",
       "      <td>...</td>\n",
       "      <td>...</td>\n",
       "      <td>...</td>\n",
       "      <td>...</td>\n",
       "      <td>...</td>\n",
       "      <td>...</td>\n",
       "      <td>...</td>\n",
       "      <td>...</td>\n",
       "      <td>...</td>\n",
       "    </tr>\n",
       "    <tr>\n",
       "      <th>3520</th>\n",
       "      <td>3521</td>\n",
       "      <td>31</td>\n",
       "      <td>4</td>\n",
       "      <td>1</td>\n",
       "      <td>24.100000</td>\n",
       "      <td>32.0</td>\n",
       "      <td>0</td>\n",
       "      <td>0</td>\n",
       "      <td>1</td>\n",
       "      <td>0</td>\n",
       "      <td>150.0</td>\n",
       "      <td>107</td>\n",
       "      <td>187.000000</td>\n",
       "      <td>13.4</td>\n",
       "      <td>1</td>\n",
       "      <td>1</td>\n",
       "      <td>1</td>\n",
       "    </tr>\n",
       "    <tr>\n",
       "      <th>3521</th>\n",
       "      <td>3522</td>\n",
       "      <td>26</td>\n",
       "      <td>3</td>\n",
       "      <td>1</td>\n",
       "      <td>34.500000</td>\n",
       "      <td>43.0</td>\n",
       "      <td>1</td>\n",
       "      <td>1</td>\n",
       "      <td>0</td>\n",
       "      <td>1</td>\n",
       "      <td>166.0</td>\n",
       "      <td>85</td>\n",
       "      <td>164.000000</td>\n",
       "      <td>14.2</td>\n",
       "      <td>0</td>\n",
       "      <td>0</td>\n",
       "      <td>1</td>\n",
       "    </tr>\n",
       "    <tr>\n",
       "      <th>3522</th>\n",
       "      <td>3523</td>\n",
       "      <td>35</td>\n",
       "      <td>2</td>\n",
       "      <td>2</td>\n",
       "      <td>23.600000</td>\n",
       "      <td>56.0</td>\n",
       "      <td>1</td>\n",
       "      <td>0</td>\n",
       "      <td>1</td>\n",
       "      <td>0</td>\n",
       "      <td>178.0</td>\n",
       "      <td>81</td>\n",
       "      <td>141.000000</td>\n",
       "      <td>15.3</td>\n",
       "      <td>0</td>\n",
       "      <td>1</td>\n",
       "      <td>1</td>\n",
       "    </tr>\n",
       "    <tr>\n",
       "      <th>3523</th>\n",
       "      <td>3524</td>\n",
       "      <td>37</td>\n",
       "      <td>2</td>\n",
       "      <td>0</td>\n",
       "      <td>23.300000</td>\n",
       "      <td>28.0</td>\n",
       "      <td>1</td>\n",
       "      <td>0</td>\n",
       "      <td>1</td>\n",
       "      <td>1</td>\n",
       "      <td>139.0</td>\n",
       "      <td>115</td>\n",
       "      <td>133.000000</td>\n",
       "      <td>13.3</td>\n",
       "      <td>0</td>\n",
       "      <td>1</td>\n",
       "      <td>0</td>\n",
       "    </tr>\n",
       "    <tr>\n",
       "      <th>3524</th>\n",
       "      <td>3525</td>\n",
       "      <td>43</td>\n",
       "      <td>2</td>\n",
       "      <td>0</td>\n",
       "      <td>28.600000</td>\n",
       "      <td>30.0</td>\n",
       "      <td>1</td>\n",
       "      <td>1</td>\n",
       "      <td>0</td>\n",
       "      <td>0</td>\n",
       "      <td>121.0</td>\n",
       "      <td>63</td>\n",
       "      <td>179.000000</td>\n",
       "      <td>15.8</td>\n",
       "      <td>1</td>\n",
       "      <td>0</td>\n",
       "      <td>0</td>\n",
       "    </tr>\n",
       "  </tbody>\n",
       "</table>\n",
       "<p>3525 rows × 17 columns</p>\n",
       "</div>"
      ],
      "text/plain": [
       "      Case Number  Age  No of Pregnancy  Gestation in previous Pregnancy  \\\n",
       "0               1   22                2                                1   \n",
       "1               2   26                2                                1   \n",
       "2               3   29                1                                0   \n",
       "3               4   28                2                                1   \n",
       "4               5   21                2                                1   \n",
       "...           ...  ...              ...                              ...   \n",
       "3520         3521   31                4                                1   \n",
       "3521         3522   26                3                                1   \n",
       "3522         3523   35                2                                2   \n",
       "3523         3524   37                2                                0   \n",
       "3524         3525   43                2                                0   \n",
       "\n",
       "            BMI   HDL  Family History  unexplained prenetal loss  \\\n",
       "0     27.854092  55.0               0                          0   \n",
       "1     27.854092  53.0               0                          0   \n",
       "2     27.854092  50.0               0                          0   \n",
       "3     27.854092  51.0               0                          0   \n",
       "4     27.854092  52.0               0                          0   \n",
       "...         ...   ...             ...                        ...   \n",
       "3520  24.100000  32.0               0                          0   \n",
       "3521  34.500000  43.0               1                          1   \n",
       "3522  23.600000  56.0               1                          0   \n",
       "3523  23.300000  28.0               1                          0   \n",
       "3524  28.600000  30.0               1                          1   \n",
       "\n",
       "      Large Child or Birth Default  PCOS  Sys BP  Dia BP        OGTT  \\\n",
       "0                                0     0   102.0      69  170.707503   \n",
       "1                                0     0   101.0      63  170.707503   \n",
       "2                                0     0   118.0      79  170.707503   \n",
       "3                                0     0    99.0      70  170.707503   \n",
       "4                                0     0   116.0      65  170.707503   \n",
       "...                            ...   ...     ...     ...         ...   \n",
       "3520                             1     0   150.0     107  187.000000   \n",
       "3521                             0     1   166.0      85  164.000000   \n",
       "3522                             1     0   178.0      81  141.000000   \n",
       "3523                             1     1   139.0     115  133.000000   \n",
       "3524                             0     0   121.0      63  179.000000   \n",
       "\n",
       "      Hemoglobin  Sedentary Lifestyle  Prediabetes  Class Label(GDM /Non GDM)  \n",
       "0           12.0                    0            0                          0  \n",
       "1           12.4                    0            0                          0  \n",
       "2           14.3                    0            0                          0  \n",
       "3           15.0                    0            0                          0  \n",
       "4           15.0                    0            0                          0  \n",
       "...          ...                  ...          ...                        ...  \n",
       "3520        13.4                    1            1                          1  \n",
       "3521        14.2                    0            0                          1  \n",
       "3522        15.3                    0            1                          1  \n",
       "3523        13.3                    0            1                          0  \n",
       "3524        15.8                    1            0                          0  \n",
       "\n",
       "[3525 rows x 17 columns]"
      ]
     },
     "execution_count": 8,
     "metadata": {},
     "output_type": "execute_result"
    }
   ],
   "source": [
    "df"
   ]
  },
  {
   "cell_type": "code",
   "execution_count": 9,
   "id": "2a0bd606-dbf3-4c34-98ae-9d4e34672357",
   "metadata": {},
   "outputs": [
    {
     "data": {
      "text/plain": [
       "Case Number                        False\n",
       "Age                                False\n",
       "No of Pregnancy                    False\n",
       "Gestation in previous Pregnancy    False\n",
       "BMI                                False\n",
       "HDL                                False\n",
       "Family History                     False\n",
       "unexplained prenetal loss          False\n",
       "Large Child or Birth Default       False\n",
       "PCOS                               False\n",
       "Sys BP                             False\n",
       "Dia BP                             False\n",
       "OGTT                               False\n",
       "Hemoglobin                         False\n",
       "Sedentary Lifestyle                False\n",
       "Prediabetes                        False\n",
       "Class Label(GDM /Non GDM)          False\n",
       "dtype: bool"
      ]
     },
     "execution_count": 9,
     "metadata": {},
     "output_type": "execute_result"
    }
   ],
   "source": [
    "df.isnull().any()"
   ]
  },
  {
   "cell_type": "code",
   "execution_count": 10,
   "id": "faca544d-800d-45d6-ada7-0d04d6d18370",
   "metadata": {},
   "outputs": [
    {
     "data": {
      "text/plain": [
       "Index(['Case Number', 'Age', 'No of Pregnancy',\n",
       "       'Gestation in previous Pregnancy', 'BMI', 'HDL', 'Family History',\n",
       "       'unexplained prenetal loss', 'Large Child or Birth Default', 'PCOS',\n",
       "       'Sys BP', 'Dia BP', 'OGTT', 'Hemoglobin', 'Sedentary Lifestyle',\n",
       "       'Prediabetes', 'Class Label(GDM /Non GDM)'],\n",
       "      dtype='object')"
      ]
     },
     "execution_count": 10,
     "metadata": {},
     "output_type": "execute_result"
    }
   ],
   "source": [
    "df.columns"
   ]
  },
  {
   "cell_type": "code",
   "execution_count": 11,
   "id": "9793ad14-d77e-4350-a760-1efd292bcaf6",
   "metadata": {},
   "outputs": [],
   "source": [
    "X=df[['Age','No of Pregnancy','Gestation in previous Pregnancy','BMI','HDL','Family History','Large Child or Birth Default','PCOS','Sys BP','Dia BP','OGTT','Hemoglobin','Sedentary Lifestyle','Prediabetes']]\n",
    "Y=df[['Class Label(GDM /Non GDM)']]"
   ]
  },
  {
   "cell_type": "code",
   "execution_count": 12,
   "id": "b83ae7a0-364c-4b36-90f7-0005df1f2fa0",
   "metadata": {},
   "outputs": [
    {
     "data": {
      "text/html": [
       "<div>\n",
       "<style scoped>\n",
       "    .dataframe tbody tr th:only-of-type {\n",
       "        vertical-align: middle;\n",
       "    }\n",
       "\n",
       "    .dataframe tbody tr th {\n",
       "        vertical-align: top;\n",
       "    }\n",
       "\n",
       "    .dataframe thead th {\n",
       "        text-align: right;\n",
       "    }\n",
       "</style>\n",
       "<table border=\"1\" class=\"dataframe\">\n",
       "  <thead>\n",
       "    <tr style=\"text-align: right;\">\n",
       "      <th></th>\n",
       "      <th>Age</th>\n",
       "      <th>No of Pregnancy</th>\n",
       "      <th>Gestation in previous Pregnancy</th>\n",
       "      <th>BMI</th>\n",
       "      <th>HDL</th>\n",
       "      <th>Family History</th>\n",
       "      <th>Large Child or Birth Default</th>\n",
       "      <th>PCOS</th>\n",
       "      <th>Sys BP</th>\n",
       "      <th>Dia BP</th>\n",
       "      <th>OGTT</th>\n",
       "      <th>Hemoglobin</th>\n",
       "      <th>Sedentary Lifestyle</th>\n",
       "      <th>Prediabetes</th>\n",
       "    </tr>\n",
       "  </thead>\n",
       "  <tbody>\n",
       "    <tr>\n",
       "      <th>0</th>\n",
       "      <td>22</td>\n",
       "      <td>2</td>\n",
       "      <td>1</td>\n",
       "      <td>27.854092</td>\n",
       "      <td>55.0</td>\n",
       "      <td>0</td>\n",
       "      <td>0</td>\n",
       "      <td>0</td>\n",
       "      <td>102.0</td>\n",
       "      <td>69</td>\n",
       "      <td>170.707503</td>\n",
       "      <td>12.0</td>\n",
       "      <td>0</td>\n",
       "      <td>0</td>\n",
       "    </tr>\n",
       "    <tr>\n",
       "      <th>1</th>\n",
       "      <td>26</td>\n",
       "      <td>2</td>\n",
       "      <td>1</td>\n",
       "      <td>27.854092</td>\n",
       "      <td>53.0</td>\n",
       "      <td>0</td>\n",
       "      <td>0</td>\n",
       "      <td>0</td>\n",
       "      <td>101.0</td>\n",
       "      <td>63</td>\n",
       "      <td>170.707503</td>\n",
       "      <td>12.4</td>\n",
       "      <td>0</td>\n",
       "      <td>0</td>\n",
       "    </tr>\n",
       "    <tr>\n",
       "      <th>2</th>\n",
       "      <td>29</td>\n",
       "      <td>1</td>\n",
       "      <td>0</td>\n",
       "      <td>27.854092</td>\n",
       "      <td>50.0</td>\n",
       "      <td>0</td>\n",
       "      <td>0</td>\n",
       "      <td>0</td>\n",
       "      <td>118.0</td>\n",
       "      <td>79</td>\n",
       "      <td>170.707503</td>\n",
       "      <td>14.3</td>\n",
       "      <td>0</td>\n",
       "      <td>0</td>\n",
       "    </tr>\n",
       "    <tr>\n",
       "      <th>3</th>\n",
       "      <td>28</td>\n",
       "      <td>2</td>\n",
       "      <td>1</td>\n",
       "      <td>27.854092</td>\n",
       "      <td>51.0</td>\n",
       "      <td>0</td>\n",
       "      <td>0</td>\n",
       "      <td>0</td>\n",
       "      <td>99.0</td>\n",
       "      <td>70</td>\n",
       "      <td>170.707503</td>\n",
       "      <td>15.0</td>\n",
       "      <td>0</td>\n",
       "      <td>0</td>\n",
       "    </tr>\n",
       "    <tr>\n",
       "      <th>4</th>\n",
       "      <td>21</td>\n",
       "      <td>2</td>\n",
       "      <td>1</td>\n",
       "      <td>27.854092</td>\n",
       "      <td>52.0</td>\n",
       "      <td>0</td>\n",
       "      <td>0</td>\n",
       "      <td>0</td>\n",
       "      <td>116.0</td>\n",
       "      <td>65</td>\n",
       "      <td>170.707503</td>\n",
       "      <td>15.0</td>\n",
       "      <td>0</td>\n",
       "      <td>0</td>\n",
       "    </tr>\n",
       "    <tr>\n",
       "      <th>...</th>\n",
       "      <td>...</td>\n",
       "      <td>...</td>\n",
       "      <td>...</td>\n",
       "      <td>...</td>\n",
       "      <td>...</td>\n",
       "      <td>...</td>\n",
       "      <td>...</td>\n",
       "      <td>...</td>\n",
       "      <td>...</td>\n",
       "      <td>...</td>\n",
       "      <td>...</td>\n",
       "      <td>...</td>\n",
       "      <td>...</td>\n",
       "      <td>...</td>\n",
       "    </tr>\n",
       "    <tr>\n",
       "      <th>3520</th>\n",
       "      <td>31</td>\n",
       "      <td>4</td>\n",
       "      <td>1</td>\n",
       "      <td>24.100000</td>\n",
       "      <td>32.0</td>\n",
       "      <td>0</td>\n",
       "      <td>1</td>\n",
       "      <td>0</td>\n",
       "      <td>150.0</td>\n",
       "      <td>107</td>\n",
       "      <td>187.000000</td>\n",
       "      <td>13.4</td>\n",
       "      <td>1</td>\n",
       "      <td>1</td>\n",
       "    </tr>\n",
       "    <tr>\n",
       "      <th>3521</th>\n",
       "      <td>26</td>\n",
       "      <td>3</td>\n",
       "      <td>1</td>\n",
       "      <td>34.500000</td>\n",
       "      <td>43.0</td>\n",
       "      <td>1</td>\n",
       "      <td>0</td>\n",
       "      <td>1</td>\n",
       "      <td>166.0</td>\n",
       "      <td>85</td>\n",
       "      <td>164.000000</td>\n",
       "      <td>14.2</td>\n",
       "      <td>0</td>\n",
       "      <td>0</td>\n",
       "    </tr>\n",
       "    <tr>\n",
       "      <th>3522</th>\n",
       "      <td>35</td>\n",
       "      <td>2</td>\n",
       "      <td>2</td>\n",
       "      <td>23.600000</td>\n",
       "      <td>56.0</td>\n",
       "      <td>1</td>\n",
       "      <td>1</td>\n",
       "      <td>0</td>\n",
       "      <td>178.0</td>\n",
       "      <td>81</td>\n",
       "      <td>141.000000</td>\n",
       "      <td>15.3</td>\n",
       "      <td>0</td>\n",
       "      <td>1</td>\n",
       "    </tr>\n",
       "    <tr>\n",
       "      <th>3523</th>\n",
       "      <td>37</td>\n",
       "      <td>2</td>\n",
       "      <td>0</td>\n",
       "      <td>23.300000</td>\n",
       "      <td>28.0</td>\n",
       "      <td>1</td>\n",
       "      <td>1</td>\n",
       "      <td>1</td>\n",
       "      <td>139.0</td>\n",
       "      <td>115</td>\n",
       "      <td>133.000000</td>\n",
       "      <td>13.3</td>\n",
       "      <td>0</td>\n",
       "      <td>1</td>\n",
       "    </tr>\n",
       "    <tr>\n",
       "      <th>3524</th>\n",
       "      <td>43</td>\n",
       "      <td>2</td>\n",
       "      <td>0</td>\n",
       "      <td>28.600000</td>\n",
       "      <td>30.0</td>\n",
       "      <td>1</td>\n",
       "      <td>0</td>\n",
       "      <td>0</td>\n",
       "      <td>121.0</td>\n",
       "      <td>63</td>\n",
       "      <td>179.000000</td>\n",
       "      <td>15.8</td>\n",
       "      <td>1</td>\n",
       "      <td>0</td>\n",
       "    </tr>\n",
       "  </tbody>\n",
       "</table>\n",
       "<p>3525 rows × 14 columns</p>\n",
       "</div>"
      ],
      "text/plain": [
       "      Age  No of Pregnancy  Gestation in previous Pregnancy        BMI   HDL  \\\n",
       "0      22                2                                1  27.854092  55.0   \n",
       "1      26                2                                1  27.854092  53.0   \n",
       "2      29                1                                0  27.854092  50.0   \n",
       "3      28                2                                1  27.854092  51.0   \n",
       "4      21                2                                1  27.854092  52.0   \n",
       "...   ...              ...                              ...        ...   ...   \n",
       "3520   31                4                                1  24.100000  32.0   \n",
       "3521   26                3                                1  34.500000  43.0   \n",
       "3522   35                2                                2  23.600000  56.0   \n",
       "3523   37                2                                0  23.300000  28.0   \n",
       "3524   43                2                                0  28.600000  30.0   \n",
       "\n",
       "      Family History  Large Child or Birth Default  PCOS  Sys BP  Dia BP  \\\n",
       "0                  0                             0     0   102.0      69   \n",
       "1                  0                             0     0   101.0      63   \n",
       "2                  0                             0     0   118.0      79   \n",
       "3                  0                             0     0    99.0      70   \n",
       "4                  0                             0     0   116.0      65   \n",
       "...              ...                           ...   ...     ...     ...   \n",
       "3520               0                             1     0   150.0     107   \n",
       "3521               1                             0     1   166.0      85   \n",
       "3522               1                             1     0   178.0      81   \n",
       "3523               1                             1     1   139.0     115   \n",
       "3524               1                             0     0   121.0      63   \n",
       "\n",
       "            OGTT  Hemoglobin  Sedentary Lifestyle  Prediabetes  \n",
       "0     170.707503        12.0                    0            0  \n",
       "1     170.707503        12.4                    0            0  \n",
       "2     170.707503        14.3                    0            0  \n",
       "3     170.707503        15.0                    0            0  \n",
       "4     170.707503        15.0                    0            0  \n",
       "...          ...         ...                  ...          ...  \n",
       "3520  187.000000        13.4                    1            1  \n",
       "3521  164.000000        14.2                    0            0  \n",
       "3522  141.000000        15.3                    0            1  \n",
       "3523  133.000000        13.3                    0            1  \n",
       "3524  179.000000        15.8                    1            0  \n",
       "\n",
       "[3525 rows x 14 columns]"
      ]
     },
     "execution_count": 12,
     "metadata": {},
     "output_type": "execute_result"
    }
   ],
   "source": [
    "X"
   ]
  },
  {
   "cell_type": "code",
   "execution_count": 13,
   "id": "71f3a548-37e5-4282-b7be-8e11cf000d51",
   "metadata": {},
   "outputs": [
    {
     "data": {
      "text/html": [
       "<div>\n",
       "<style scoped>\n",
       "    .dataframe tbody tr th:only-of-type {\n",
       "        vertical-align: middle;\n",
       "    }\n",
       "\n",
       "    .dataframe tbody tr th {\n",
       "        vertical-align: top;\n",
       "    }\n",
       "\n",
       "    .dataframe thead th {\n",
       "        text-align: right;\n",
       "    }\n",
       "</style>\n",
       "<table border=\"1\" class=\"dataframe\">\n",
       "  <thead>\n",
       "    <tr style=\"text-align: right;\">\n",
       "      <th></th>\n",
       "      <th>Class Label(GDM /Non GDM)</th>\n",
       "    </tr>\n",
       "  </thead>\n",
       "  <tbody>\n",
       "    <tr>\n",
       "      <th>0</th>\n",
       "      <td>0</td>\n",
       "    </tr>\n",
       "    <tr>\n",
       "      <th>1</th>\n",
       "      <td>0</td>\n",
       "    </tr>\n",
       "    <tr>\n",
       "      <th>2</th>\n",
       "      <td>0</td>\n",
       "    </tr>\n",
       "    <tr>\n",
       "      <th>3</th>\n",
       "      <td>0</td>\n",
       "    </tr>\n",
       "    <tr>\n",
       "      <th>4</th>\n",
       "      <td>0</td>\n",
       "    </tr>\n",
       "    <tr>\n",
       "      <th>...</th>\n",
       "      <td>...</td>\n",
       "    </tr>\n",
       "    <tr>\n",
       "      <th>3520</th>\n",
       "      <td>1</td>\n",
       "    </tr>\n",
       "    <tr>\n",
       "      <th>3521</th>\n",
       "      <td>1</td>\n",
       "    </tr>\n",
       "    <tr>\n",
       "      <th>3522</th>\n",
       "      <td>1</td>\n",
       "    </tr>\n",
       "    <tr>\n",
       "      <th>3523</th>\n",
       "      <td>0</td>\n",
       "    </tr>\n",
       "    <tr>\n",
       "      <th>3524</th>\n",
       "      <td>0</td>\n",
       "    </tr>\n",
       "  </tbody>\n",
       "</table>\n",
       "<p>3525 rows × 1 columns</p>\n",
       "</div>"
      ],
      "text/plain": [
       "      Class Label(GDM /Non GDM)\n",
       "0                             0\n",
       "1                             0\n",
       "2                             0\n",
       "3                             0\n",
       "4                             0\n",
       "...                         ...\n",
       "3520                          1\n",
       "3521                          1\n",
       "3522                          1\n",
       "3523                          0\n",
       "3524                          0\n",
       "\n",
       "[3525 rows x 1 columns]"
      ]
     },
     "execution_count": 13,
     "metadata": {},
     "output_type": "execute_result"
    }
   ],
   "source": [
    "Y"
   ]
  },
  {
   "cell_type": "code",
   "execution_count": 14,
   "id": "ebc413a4-2184-4528-a58a-f0a8fda7a22a",
   "metadata": {},
   "outputs": [],
   "source": [
    "from sklearn.model_selection import train_test_split\n",
    "X_train,X_test,Y_train,Y_test=train_test_split(X,Y,test_size=1/3,random_state=42)"
   ]
  },
  {
   "cell_type": "code",
   "execution_count": 15,
   "id": "e82b44e0-d979-4335-abd2-0322f220343e",
   "metadata": {},
   "outputs": [
    {
     "data": {
      "text/plain": [
       "(1175, 14)"
      ]
     },
     "execution_count": 15,
     "metadata": {},
     "output_type": "execute_result"
    }
   ],
   "source": [
    "X_test.shape"
   ]
  },
  {
   "cell_type": "code",
   "execution_count": 16,
   "id": "a02d6103-1c5a-43fd-bd79-45e3fe9eec6f",
   "metadata": {},
   "outputs": [
    {
     "data": {
      "text/plain": [
       "(2350, 14)"
      ]
     },
     "execution_count": 16,
     "metadata": {},
     "output_type": "execute_result"
    }
   ],
   "source": [
    "X_train.shape"
   ]
  },
  {
   "cell_type": "code",
   "execution_count": 17,
   "id": "4d26e869-d665-4ef5-8572-8820e4817412",
   "metadata": {},
   "outputs": [],
   "source": [
    "from sklearn.linear_model import LogisticRegression\n",
    "from sklearn.metrics import accuracy_score, classification_report, confusion_matrix\n"
   ]
  },
  {
   "cell_type": "code",
   "execution_count": 18,
   "id": "5dc286a1-86c9-49c8-b87c-11bc02c50223",
   "metadata": {},
   "outputs": [],
   "source": [
    "log_reg = LogisticRegression()"
   ]
  },
  {
   "cell_type": "code",
   "execution_count": 19,
   "id": "25578fd2-51b7-43c8-881b-542b720148f5",
   "metadata": {},
   "outputs": [
    {
     "name": "stderr",
     "output_type": "stream",
     "text": [
      "C:\\Users\\Naresh\\.conda\\envs\\tf-new\\lib\\site-packages\\sklearn\\utils\\validation.py:1184: DataConversionWarning: A column-vector y was passed when a 1d array was expected. Please change the shape of y to (n_samples, ), for example using ravel().\n",
      "  y = column_or_1d(y, warn=True)\n",
      "C:\\Users\\Naresh\\.conda\\envs\\tf-new\\lib\\site-packages\\sklearn\\linear_model\\_logistic.py:460: ConvergenceWarning: lbfgs failed to converge (status=1):\n",
      "STOP: TOTAL NO. of ITERATIONS REACHED LIMIT.\n",
      "\n",
      "Increase the number of iterations (max_iter) or scale the data as shown in:\n",
      "    https://scikit-learn.org/stable/modules/preprocessing.html\n",
      "Please also refer to the documentation for alternative solver options:\n",
      "    https://scikit-learn.org/stable/modules/linear_model.html#logistic-regression\n",
      "  n_iter_i = _check_optimize_result(\n"
     ]
    },
    {
     "data": {
      "text/html": [
       "<style>#sk-container-id-1 {color: black;}#sk-container-id-1 pre{padding: 0;}#sk-container-id-1 div.sk-toggleable {background-color: white;}#sk-container-id-1 label.sk-toggleable__label {cursor: pointer;display: block;width: 100%;margin-bottom: 0;padding: 0.3em;box-sizing: border-box;text-align: center;}#sk-container-id-1 label.sk-toggleable__label-arrow:before {content: \"▸\";float: left;margin-right: 0.25em;color: #696969;}#sk-container-id-1 label.sk-toggleable__label-arrow:hover:before {color: black;}#sk-container-id-1 div.sk-estimator:hover label.sk-toggleable__label-arrow:before {color: black;}#sk-container-id-1 div.sk-toggleable__content {max-height: 0;max-width: 0;overflow: hidden;text-align: left;background-color: #f0f8ff;}#sk-container-id-1 div.sk-toggleable__content pre {margin: 0.2em;color: black;border-radius: 0.25em;background-color: #f0f8ff;}#sk-container-id-1 input.sk-toggleable__control:checked~div.sk-toggleable__content {max-height: 200px;max-width: 100%;overflow: auto;}#sk-container-id-1 input.sk-toggleable__control:checked~label.sk-toggleable__label-arrow:before {content: \"▾\";}#sk-container-id-1 div.sk-estimator input.sk-toggleable__control:checked~label.sk-toggleable__label {background-color: #d4ebff;}#sk-container-id-1 div.sk-label input.sk-toggleable__control:checked~label.sk-toggleable__label {background-color: #d4ebff;}#sk-container-id-1 input.sk-hidden--visually {border: 0;clip: rect(1px 1px 1px 1px);clip: rect(1px, 1px, 1px, 1px);height: 1px;margin: -1px;overflow: hidden;padding: 0;position: absolute;width: 1px;}#sk-container-id-1 div.sk-estimator {font-family: monospace;background-color: #f0f8ff;border: 1px dotted black;border-radius: 0.25em;box-sizing: border-box;margin-bottom: 0.5em;}#sk-container-id-1 div.sk-estimator:hover {background-color: #d4ebff;}#sk-container-id-1 div.sk-parallel-item::after {content: \"\";width: 100%;border-bottom: 1px solid gray;flex-grow: 1;}#sk-container-id-1 div.sk-label:hover label.sk-toggleable__label {background-color: #d4ebff;}#sk-container-id-1 div.sk-serial::before {content: \"\";position: absolute;border-left: 1px solid gray;box-sizing: border-box;top: 0;bottom: 0;left: 50%;z-index: 0;}#sk-container-id-1 div.sk-serial {display: flex;flex-direction: column;align-items: center;background-color: white;padding-right: 0.2em;padding-left: 0.2em;position: relative;}#sk-container-id-1 div.sk-item {position: relative;z-index: 1;}#sk-container-id-1 div.sk-parallel {display: flex;align-items: stretch;justify-content: center;background-color: white;position: relative;}#sk-container-id-1 div.sk-item::before, #sk-container-id-1 div.sk-parallel-item::before {content: \"\";position: absolute;border-left: 1px solid gray;box-sizing: border-box;top: 0;bottom: 0;left: 50%;z-index: -1;}#sk-container-id-1 div.sk-parallel-item {display: flex;flex-direction: column;z-index: 1;position: relative;background-color: white;}#sk-container-id-1 div.sk-parallel-item:first-child::after {align-self: flex-end;width: 50%;}#sk-container-id-1 div.sk-parallel-item:last-child::after {align-self: flex-start;width: 50%;}#sk-container-id-1 div.sk-parallel-item:only-child::after {width: 0;}#sk-container-id-1 div.sk-dashed-wrapped {border: 1px dashed gray;margin: 0 0.4em 0.5em 0.4em;box-sizing: border-box;padding-bottom: 0.4em;background-color: white;}#sk-container-id-1 div.sk-label label {font-family: monospace;font-weight: bold;display: inline-block;line-height: 1.2em;}#sk-container-id-1 div.sk-label-container {text-align: center;}#sk-container-id-1 div.sk-container {/* jupyter's `normalize.less` sets `[hidden] { display: none; }` but bootstrap.min.css set `[hidden] { display: none !important; }` so we also need the `!important` here to be able to override the default hidden behavior on the sphinx rendered scikit-learn.org. See: https://github.com/scikit-learn/scikit-learn/issues/21755 */display: inline-block !important;position: relative;}#sk-container-id-1 div.sk-text-repr-fallback {display: none;}</style><div id=\"sk-container-id-1\" class=\"sk-top-container\"><div class=\"sk-text-repr-fallback\"><pre>LogisticRegression()</pre><b>In a Jupyter environment, please rerun this cell to show the HTML representation or trust the notebook. <br />On GitHub, the HTML representation is unable to render, please try loading this page with nbviewer.org.</b></div><div class=\"sk-container\" hidden><div class=\"sk-item\"><div class=\"sk-estimator sk-toggleable\"><input class=\"sk-toggleable__control sk-hidden--visually\" id=\"sk-estimator-id-1\" type=\"checkbox\" checked><label for=\"sk-estimator-id-1\" class=\"sk-toggleable__label sk-toggleable__label-arrow\">LogisticRegression</label><div class=\"sk-toggleable__content\"><pre>LogisticRegression()</pre></div></div></div></div></div>"
      ],
      "text/plain": [
       "LogisticRegression()"
      ]
     },
     "execution_count": 19,
     "metadata": {},
     "output_type": "execute_result"
    }
   ],
   "source": [
    "log_reg.fit(X_train, Y_train)"
   ]
  },
  {
   "cell_type": "code",
   "execution_count": 20,
   "id": "ccac2392-3936-4baa-9bcd-4bd10558e3cf",
   "metadata": {},
   "outputs": [],
   "source": [
    "log_pred = log_reg.predict(X_test)"
   ]
  },
  {
   "cell_type": "code",
   "execution_count": 21,
   "id": "78e1576b-f31e-49ca-bfa3-a2bff3aabad8",
   "metadata": {},
   "outputs": [
    {
     "name": "stdout",
     "output_type": "stream",
     "text": [
      "Accuracy: 0.9480851063829787\n",
      "Classification Report:\n",
      "              precision    recall  f1-score   support\n",
      "\n",
      "           0       0.94      0.98      0.96       725\n",
      "           1       0.96      0.90      0.93       450\n",
      "\n",
      "    accuracy                           0.95      1175\n",
      "   macro avg       0.95      0.94      0.94      1175\n",
      "weighted avg       0.95      0.95      0.95      1175\n",
      "\n",
      "Confusion Matrix:\n",
      "[[709  16]\n",
      " [ 45 405]]\n"
     ]
    }
   ],
   "source": [
    "# Calculate accuracy\n",
    "accuracy = accuracy_score(Y_test, log_pred)\n",
    "print(\"Accuracy:\", accuracy)\n",
    "\n",
    "# Print classification report\n",
    "print(\"Classification Report:\")\n",
    "print(classification_report(Y_test, log_pred))\n",
    "\n",
    "# Print confusion matrix\n",
    "print(\"Confusion Matrix:\")\n",
    "print(confusion_matrix(Y_test, log_pred))\n"
   ]
  },
  {
   "cell_type": "code",
   "execution_count": 22,
   "id": "08fc3c98-1ad4-4590-b6b3-2ed5e3762fcb",
   "metadata": {},
   "outputs": [
    {
     "name": "stdout",
     "output_type": "stream",
     "text": [
      "0.9480851063829787\n"
     ]
    }
   ],
   "source": [
    "print(accuracy)"
   ]
  },
  {
   "cell_type": "code",
   "execution_count": 23,
   "id": "12ff081d-e06a-4063-8c34-32a26da733a4",
   "metadata": {},
   "outputs": [
    {
     "data": {
      "text/plain": [
       "Age                                  int64\n",
       "No of Pregnancy                      int64\n",
       "Gestation in previous Pregnancy      int64\n",
       "BMI                                float64\n",
       "HDL                                float64\n",
       "Family History                       int64\n",
       "Large Child or Birth Default         int64\n",
       "PCOS                                 int64\n",
       "Sys BP                             float64\n",
       "Dia BP                               int64\n",
       "OGTT                               float64\n",
       "Hemoglobin                         float64\n",
       "Sedentary Lifestyle                  int64\n",
       "Prediabetes                          int64\n",
       "dtype: object"
      ]
     },
     "execution_count": 23,
     "metadata": {},
     "output_type": "execute_result"
    }
   ],
   "source": [
    "X.dtypes"
   ]
  },
  {
   "cell_type": "code",
   "execution_count": 24,
   "id": "15d3e93f-e023-45ca-ae37-e7b30b0caad7",
   "metadata": {},
   "outputs": [],
   "source": [
    "from sklearn.ensemble import RandomForestClassifier\n",
    "classifier=RandomForestClassifier(n_estimators= 100, criterion=\"entropy\")\n",
    "classifier=classifier.fit(X_train,Y_train.values.ravel())"
   ]
  },
  {
   "cell_type": "code",
   "execution_count": 25,
   "id": "20b5d9f5-b272-45dd-9728-2352864a83e3",
   "metadata": {},
   "outputs": [
    {
     "data": {
      "text/plain": [
       "array([0, 1, 1, ..., 0, 0, 1], dtype=int64)"
      ]
     },
     "execution_count": 25,
     "metadata": {},
     "output_type": "execute_result"
    }
   ],
   "source": [
    "y_pred=classifier.predict(X_test)\n",
    "y_pred"
   ]
  },
  {
   "cell_type": "code",
   "execution_count": 26,
   "id": "d4dd050a-7cf2-465d-988c-53b83350876e",
   "metadata": {},
   "outputs": [],
   "source": [
    "from sklearn.metrics import classification_report\n",
    "clf_report=classification_report(Y_test.values.ravel(),y_pred)"
   ]
  },
  {
   "cell_type": "code",
   "execution_count": 27,
   "id": "2f6e2535-342a-4811-9bad-8f6a8d3f183d",
   "metadata": {},
   "outputs": [
    {
     "name": "stdout",
     "output_type": "stream",
     "text": [
      "              precision    recall  f1-score   support\n",
      "\n",
      "           0       0.98      0.97      0.97       725\n",
      "           1       0.95      0.97      0.96       450\n",
      "\n",
      "    accuracy                           0.97      1175\n",
      "   macro avg       0.96      0.97      0.97      1175\n",
      "weighted avg       0.97      0.97      0.97      1175\n",
      "\n"
     ]
    }
   ],
   "source": [
    "print(clf_report)"
   ]
  },
  {
   "cell_type": "code",
   "execution_count": 28,
   "id": "5608f3fc-71f8-4712-8549-215c5bcdd419",
   "metadata": {},
   "outputs": [
    {
     "name": "stdout",
     "output_type": "stream",
     "text": [
      "Accuracy: 0.9676595744680851\n"
     ]
    }
   ],
   "source": [
    "rfaccuracy = accuracy_score(Y_test, y_pred)\n",
    "print(\"Accuracy:\", rfaccuracy)\n"
   ]
  },
  {
   "cell_type": "code",
   "execution_count": 29,
   "id": "82928bc9-f9d9-4c9f-89ee-f08db96890db",
   "metadata": {},
   "outputs": [],
   "source": [
    "from sklearn.preprocessing import StandardScaler\n",
    "from sklearn.metrics import accuracy_score, precision_score, recall_score, f1_score\n",
    "from sklearn.naive_bayes import GaussianNB\n",
    "from sklearn.svm import SVC"
   ]
  },
  {
   "cell_type": "code",
   "execution_count": 30,
   "id": "3010ff68-93a7-4d32-9a55-0ab0eaf73e10",
   "metadata": {},
   "outputs": [],
   "source": [
    "scaler = StandardScaler()\n",
    "X_train_scaled = scaler.fit_transform(X_train)\n",
    "X_test_scaled = scaler.transform(X_test)"
   ]
  },
  {
   "cell_type": "code",
   "execution_count": 31,
   "id": "5dae18a5-f755-4688-93e6-9376223ff4a3",
   "metadata": {},
   "outputs": [
    {
     "name": "stderr",
     "output_type": "stream",
     "text": [
      "C:\\Users\\Naresh\\.conda\\envs\\tf-new\\lib\\site-packages\\sklearn\\utils\\validation.py:1184: DataConversionWarning: A column-vector y was passed when a 1d array was expected. Please change the shape of y to (n_samples, ), for example using ravel().\n",
      "  y = column_or_1d(y, warn=True)\n"
     ]
    }
   ],
   "source": [
    "nb_classifier = GaussianNB()\n",
    "nb_classifier.fit(X_train_scaled, Y_train)\n",
    "nb_pred = nb_classifier.predict(X_test_scaled)"
   ]
  },
  {
   "cell_type": "code",
   "execution_count": 32,
   "id": "9e1bf065-c556-4879-b686-456f4748cf94",
   "metadata": {},
   "outputs": [
    {
     "name": "stderr",
     "output_type": "stream",
     "text": [
      "C:\\Users\\Naresh\\.conda\\envs\\tf-new\\lib\\site-packages\\sklearn\\utils\\validation.py:1184: DataConversionWarning: A column-vector y was passed when a 1d array was expected. Please change the shape of y to (n_samples, ), for example using ravel().\n",
      "  y = column_or_1d(y, warn=True)\n"
     ]
    }
   ],
   "source": [
    "svm_classifier = SVC()\n",
    "svm_classifier.fit(X_train_scaled, Y_train)\n",
    "svm_pred = svm_classifier.predict(X_test_scaled)\n"
   ]
  },
  {
   "cell_type": "code",
   "execution_count": 33,
   "id": "0e60d6f2-50cd-4b4b-b2f8-edd9a181d64a",
   "metadata": {},
   "outputs": [],
   "source": [
    "nb_accuracy = accuracy_score(Y_test, nb_pred)\n",
    "svm_accuracy = accuracy_score(Y_test, svm_pred)"
   ]
  },
  {
   "cell_type": "code",
   "execution_count": 34,
   "id": "1e786e6d-1093-470b-8646-dfaa1c054a87",
   "metadata": {},
   "outputs": [],
   "source": [
    "from sklearn.metrics import classification_report\n",
    "nb_clf_report=classification_report(Y_test.values.ravel(),nb_pred)"
   ]
  },
  {
   "cell_type": "code",
   "execution_count": 35,
   "id": "275c8615-721c-4115-9c7b-cab5f4c05d7b",
   "metadata": {},
   "outputs": [
    {
     "name": "stdout",
     "output_type": "stream",
     "text": [
      "              precision    recall  f1-score   support\n",
      "\n",
      "           0       0.95      0.96      0.95       725\n",
      "           1       0.93      0.91      0.92       450\n",
      "\n",
      "    accuracy                           0.94      1175\n",
      "   macro avg       0.94      0.93      0.94      1175\n",
      "weighted avg       0.94      0.94      0.94      1175\n",
      "\n"
     ]
    }
   ],
   "source": [
    "print(nb_clf_report)"
   ]
  },
  {
   "cell_type": "code",
   "execution_count": 36,
   "id": "a2518043-6993-412e-bd12-9723fb8357f6",
   "metadata": {},
   "outputs": [],
   "source": [
    "from sklearn.metrics import classification_report\n",
    "svm_clf_report=classification_report(Y_test.values.ravel(),svm_pred)"
   ]
  },
  {
   "cell_type": "code",
   "execution_count": 37,
   "id": "d4c29f61-ea70-4bc2-ba16-455d59dc5311",
   "metadata": {},
   "outputs": [
    {
     "name": "stdout",
     "output_type": "stream",
     "text": [
      "              precision    recall  f1-score   support\n",
      "\n",
      "           0       0.98      0.97      0.98       725\n",
      "           1       0.95      0.97      0.96       450\n",
      "\n",
      "    accuracy                           0.97      1175\n",
      "   macro avg       0.97      0.97      0.97      1175\n",
      "weighted avg       0.97      0.97      0.97      1175\n",
      "\n"
     ]
    }
   ],
   "source": [
    "print(svm_clf_report)"
   ]
  },
  {
   "cell_type": "code",
   "execution_count": 38,
   "id": "28b8c96b-9fe7-4dd4-926e-64fac1392a60",
   "metadata": {},
   "outputs": [
    {
     "name": "stdout",
     "output_type": "stream",
     "text": [
      "0.9395744680851064\n"
     ]
    }
   ],
   "source": [
    "print(nb_accuracy )"
   ]
  },
  {
   "cell_type": "code",
   "execution_count": 39,
   "id": "53763ceb-fe7e-4468-888e-015f08b34d16",
   "metadata": {},
   "outputs": [
    {
     "name": "stdout",
     "output_type": "stream",
     "text": [
      "0.9693617021276596\n"
     ]
    }
   ],
   "source": [
    "print(svm_accuracy)"
   ]
  },
  {
   "cell_type": "code",
   "execution_count": 40,
   "id": "04de7a83-27ad-499c-8885-e056be8bc0ec",
   "metadata": {},
   "outputs": [
    {
     "name": "stderr",
     "output_type": "stream",
     "text": [
      "C:\\Users\\Naresh\\.conda\\envs\\tf-new\\lib\\site-packages\\sklearn\\neighbors\\_classification.py:228: DataConversionWarning: A column-vector y was passed when a 1d array was expected. Please change the shape of y to (n_samples,), for example using ravel().\n",
      "  return self._fit(X, y)\n"
     ]
    },
    {
     "name": "stdout",
     "output_type": "stream",
     "text": [
      "Accuracy: 0.9685106382978723\n"
     ]
    }
   ],
   "source": [
    "from sklearn.neighbors import KNeighborsClassifier\n",
    "from sklearn.metrics import accuracy_score\n",
    "knn_classifier = KNeighborsClassifier(n_neighbors=5)  # Set K=5 or any other desired value\n",
    "\n",
    "# Train the classifier\n",
    "knn_classifier.fit(X_train_scaled, Y_train)\n",
    "\n",
    "# Predict on the test set\n",
    "k_pred = knn_classifier.predict(X_test_scaled)\n",
    "\n",
    "# Calculate accuracy\n",
    "knn_accuracy = accuracy_score(Y_test, k_pred)\n",
    "print(\"Accuracy:\", knn_accuracy)"
   ]
  },
  {
   "cell_type": "code",
   "execution_count": 44,
   "id": "6e2e6c7c-c76c-4bd1-80c7-416718abd692",
   "metadata": {},
   "outputs": [
    {
     "name": "stderr",
     "output_type": "stream",
     "text": [
      "C:\\Users\\Naresh\\.conda\\envs\\tf-new\\lib\\site-packages\\sklearn\\preprocessing\\_label.py:114: DataConversionWarning: A column-vector y was passed when a 1d array was expected. Please change the shape of y to (n_samples, ), for example using ravel().\n",
      "  y = column_or_1d(y, warn=True)\n"
     ]
    },
    {
     "name": "stdout",
     "output_type": "stream",
     "text": [
      "Accuracy: 0.9668085106382979\n"
     ]
    }
   ],
   "source": [
    "from xgboost import XGBClassifier\n",
    "from sklearn.metrics import accuracy_score\n",
    "from sklearn.preprocessing import LabelEncoder\n",
    "\n",
    "label_encoder = LabelEncoder()\n",
    "Y_train_encoded = label_encoder.fit_transform(Y_train)\n",
    "# Define XGBoost parameters\n",
    "params = {\n",
    "    'objective': 'multi:softmax',  # Use softmax for multi-class classification\n",
    "    'num_class': len(set(Y_train_encoded)),  # Number of classes\n",
    "    'eta': 0.1,  # Learning rate\n",
    "    'max_depth': 3,  # Maximum depth of the tree\n",
    "    'subsample': 0.7,  # Subsample ratio of the training instances\n",
    "    'colsample_bytree': 0.7,  # Subsample ratio of features\n",
    "    'eval_metric': 'mlogloss'  # Evaluation metric\n",
    "}\n",
    "\n",
    "# Initialize XGBClassifier with specified parameters\n",
    "xgb_classifier = XGBClassifier(**params)\n",
    "\n",
    "# Train XGBClassifier\n",
    "xgb_classifier.fit(X_train_scaled, Y_train)\n",
    "\n",
    "# Make predictions\n",
    "xgb_pred = xgb_classifier.predict(X_test_scaled)\n",
    "\n",
    "# Calculate accuracy\n",
    "xgb_accuracy = accuracy_score(Y_test, xgb_pred)\n",
    "print(\"Accuracy:\", xgb_accuracy)\n"
   ]
  },
  {
   "cell_type": "code",
   "execution_count": 45,
   "id": "658a4f23-1b8f-408b-9a7d-78a365f8438d",
   "metadata": {},
   "outputs": [
    {
     "name": "stdout",
     "output_type": "stream",
     "text": [
      "Precision for Logistic Regression: 0.948620111883871\n",
      "Recall for Logistic Regression: 0.9480851063829787\n",
      "F1 Score for Logistic Regression: 0.9477298210976505\n"
     ]
    }
   ],
   "source": [
    "from sklearn.metrics import precision_recall_fscore_support\n",
    "\n",
    "\n",
    "\n",
    "# Calculate precision, recall, and F1 score\n",
    "precision, recall, f1_score, _ = precision_recall_fscore_support(Y_test, log_pred, average='weighted')\n",
    "\n",
    "print(\"Precision for Logistic Regression:\", precision)\n",
    "print(\"Recall for Logistic Regression:\", recall)\n",
    "print(\"F1 Score for Logistic Regression:\", f1_score)\n"
   ]
  },
  {
   "cell_type": "code",
   "execution_count": 46,
   "id": "1baa647d-6b1c-495f-8d0e-43d21238105c",
   "metadata": {},
   "outputs": [
    {
     "name": "stdout",
     "output_type": "stream",
     "text": [
      "Precision for randomforest: 0.9679369659018132\n",
      "Recall for randomforest: 0.9676595744680851\n",
      "F1 Score for randomforest: 0.9677249759696567\n"
     ]
    }
   ],
   "source": [
    "from sklearn.metrics import precision_recall_fscore_support\n",
    "\n",
    "\n",
    "\n",
    "# Calculate precision, recall, and F1 score\n",
    "precision, recall, f1_score, _ = precision_recall_fscore_support(Y_test, y_pred, average='weighted')\n",
    "\n",
    "print(\"Precision for randomforest:\", precision)\n",
    "print(\"Recall for randomforest:\", recall)\n",
    "print(\"F1 Score for randomforest:\", f1_score)\n"
   ]
  },
  {
   "cell_type": "code",
   "execution_count": 47,
   "id": "ff040814-a07f-4e76-a304-a8e51acbaf6f",
   "metadata": {},
   "outputs": [
    {
     "name": "stdout",
     "output_type": "stream",
     "text": [
      "Precision for Navie bayes: 0.939453455450242\n",
      "Recall for Navie bayes: 0.9395744680851064\n",
      "F1 Score for Navie bayes: 0.939455659359995\n"
     ]
    }
   ],
   "source": [
    "from sklearn.metrics import precision_recall_fscore_support\n",
    "\n",
    "\n",
    "# Calculate precision, recall, and F1 score\n",
    "precision, recall, f1_score, _ = precision_recall_fscore_support(Y_test, nb_pred, average='weighted')\n",
    "\n",
    "print(\"Precision for Navie bayes:\", precision)\n",
    "print(\"Recall for Navie bayes:\", recall)\n",
    "print(\"F1 Score for Navie bayes:\", f1_score)\n"
   ]
  },
  {
   "cell_type": "code",
   "execution_count": 48,
   "id": "7c330493-42b3-4e7e-a142-9ff8f0b6e9cc",
   "metadata": {},
   "outputs": [
    {
     "name": "stdout",
     "output_type": "stream",
     "text": [
      "Precision for SVM: 0.9696324951644102\n",
      "Recall for SVM: 0.9693617021276596\n",
      "F1 Score for SVM: 0.9694236614449381\n"
     ]
    }
   ],
   "source": [
    "from sklearn.metrics import precision_recall_fscore_support\n",
    "\n",
    "\n",
    "\n",
    "# Calculate precision, recall, and F1 score\n",
    "precision, recall, f1_score, _ = precision_recall_fscore_support(Y_test, svm_pred, average='weighted')\n",
    "\n",
    "print(\"Precision for SVM:\", precision)\n",
    "print(\"Recall for SVM:\", recall)\n",
    "print(\"F1 Score for SVM:\", f1_score)\n"
   ]
  },
  {
   "cell_type": "code",
   "execution_count": 49,
   "id": "024f50f8-7ec1-4bd9-8f7b-b0b5ef63c5ca",
   "metadata": {},
   "outputs": [
    {
     "name": "stdout",
     "output_type": "stream",
     "text": [
      "Precision for KNN: 0.9685253333826818\n",
      "Recall for KNN: 0.9685106382978723\n",
      "F1 Score for KNN: 0.9685172470770959\n"
     ]
    }
   ],
   "source": [
    "from sklearn.metrics import precision_recall_fscore_support\n",
    "\n",
    "\n",
    "\n",
    "# Calculate precision, recall, and F1 score\n",
    "precision, recall, f1_score, _ = precision_recall_fscore_support(Y_test, k_pred, average='weighted')\n",
    "\n",
    "print(\"Precision for KNN:\", precision)\n",
    "print(\"Recall for KNN:\", recall)\n",
    "print(\"F1 Score for KNN:\", f1_score)\n"
   ]
  },
  {
   "cell_type": "code",
   "execution_count": 50,
   "id": "130991f8-a2c1-45a5-a1b1-26a249b3a411",
   "metadata": {},
   "outputs": [
    {
     "name": "stdout",
     "output_type": "stream",
     "text": [
      "Precision for Xgboost: 0.9671326323486427\n",
      "Recall for Xgboost: 0.9668085106382979\n",
      "F1 Score for Xgboost: 0.966882037187109\n"
     ]
    }
   ],
   "source": [
    "from sklearn.metrics import precision_recall_fscore_support\n",
    "\n",
    "\n",
    "\n",
    "# Calculate precision, recall, and F1 score\n",
    "precision, recall, f1_score, _ = precision_recall_fscore_support(Y_test, xgb_pred, average='weighted')\n",
    "\n",
    "print(\"Precision for Xgboost:\", precision)\n",
    "print(\"Recall for Xgboost:\", recall)\n",
    "print(\"F1 Score for Xgboost:\", f1_score)\n"
   ]
  },
  {
   "cell_type": "code",
   "execution_count": 51,
   "id": "c8fe98ac-19cf-4373-96e1-9e0897c6488d",
   "metadata": {},
   "outputs": [
    {
     "data": {
      "image/png": "[encoded data removed]",
      "text/plain": [
       "<Figure size 1000x600 with 1 Axes>"
      ]
     },
     "metadata": {},
     "output_type": "display_data"
    }
   ],
   "source": [
    "import numpy as np\n",
    "import matplotlib.pyplot as plt\n",
    "\n",
    "# Model names\n",
    "model_names = ['Logistic Regression', 'Random Forest', 'Naive Bayes', 'SVM', 'KNN', 'XGBoost']\n",
    "\n",
    "# Precision, Recall, and F1 scores for each model\n",
    "precision_scores = [0.948620111883871, 0.9688275642559603, 0.939453455450242, 0.9696324951644102, 0.9685253333826818, 0.9671326323486427]\n",
    "recall_scores = [0.9480851063829787, 0.9685106382978723, 0.9395744680851064, 0.9693617021276596, 0.9685106382978723, 0.9668085106382979]\n",
    "f1_scores = [0.9477298210976505, 0.9685803942544369, 0.939455659359995, 0.9694236614449381, 0.9685172470770959, 0.966882037187109]\n",
    "\n",
    "# Set positions for the bars\n",
    "positions = np.arange(len(model_names))\n",
    "\n",
    "# Set width for the bars\n",
    "bar_width = 0.2\n",
    "\n",
    "# Create bar plot for precision scoresa\n",
    "plt.figure(figsize=(10, 6))\n",
    "plt.bar(positions, precision_scores, width=bar_width, label='Precision')\n",
    "\n",
    "# Create bar plot for recall scores\n",
    "plt.bar(positions + bar_width, recall_scores, width=bar_width, label='Recall')\n",
    "\n",
    "# Create bar plot for F1 scores\n",
    "plt.bar(positions + 2 * bar_width, f1_scores, width=bar_width, label='F1 Score')\n",
    "\n",
    "# Set labels and title\n",
    "plt.xlabel('Models')\n",
    "plt.ylabel('Scores')\n",
    "plt.title('Precision, Recall, and F1 Score for each Model')\n",
    "plt.xticks(positions + bar_width, model_names, rotation=45)\n",
    "plt.legend()\n",
    "plt.grid(True)\n",
    "plt.tight_layout()\n",
    "plt.show()\n"
   ]
  },
  {
   "cell_type": "code",
   "execution_count": 52,
   "id": "4dc594b7-e709-43b9-a464-ca19f4c94b69",
   "metadata": {},
   "outputs": [],
   "source": [
    "classifiers = ['Logistic Regression', 'Random Forest', 'Naive Bayes', 'SVM', 'KNN', 'XGBoost']\n",
    "accuracies = [accuracy,rfaccuracy,nb_accuracy,svm_accuracy,knn_accuracy,xgb_accuracy]"
   ]
  },
  {
   "cell_type": "code",
   "execution_count": 53,
   "id": "384f1971-9ef3-48bb-a129-9f906de0ac1b",
   "metadata": {},
   "outputs": [
    {
     "data": {
      "image/png": "[encoded data removed]",
      "text/plain": [
       "<Figure size 640x480 with 1 Axes>"
      ]
     },
     "metadata": {},
     "output_type": "display_data"
    }
   ],
   "source": [
    "positionss = np.arange(len(classifiers))\n",
    "colors = ['#ADD8E6', '#006400', '#FFB6C1', '#800080', '#FFD700', '#FF8C00' ]\n",
    "plt.bar(classifiers, accuracies, color=colors)\n",
    "plt.xlabel('Classifiers')\n",
    "plt.ylabel('Accuracy')\n",
    "plt.title('Accuracy Comparison of Different Classifiers')\n",
    "plt.xticks(positionss + bar_width, model_names, rotation=30)\n",
    "plt.ylim(0, 1)\n",
    "plt.show()"
   ]
  },
  {
   "cell_type": "code",
   "execution_count": 55,
   "id": "588b0d60-8a82-411c-a2ae-8b098ac97a6c",
   "metadata": {},
   "outputs": [
    {
     "name": "stdin",
     "output_type": "stream",
     "text": [
      "Enter the value for 'Age':  35\n",
      "Enter the value for 'No of Pregnancy':  4\n",
      "Enter the value for 'Gestation in previous Pregnancy':  2\n",
      "Enter the value for 'BMI':  31.5\n",
      "Enter the value for 'HDL':  46.47\n",
      "Enter the value for 'Family History':  1\n",
      "Enter the value for 'Large Child or Birth Default':  1\n",
      "Enter the value for 'PCOS':  1\n",
      "Enter the value for 'Sys BP':  135.76\n",
      "Enter the value for 'Dia BP':  91\n",
      "Enter the value for 'OGTT':  205.0\n",
      "Enter the value for 'Hemoglobin':  16.0\n",
      "Enter the value for 'Sedentary Lifestyle':  1\n",
      "Enter the value for 'Prediabetes':  1\n"
     ]
    }
   ],
   "source": [
    "Age = int(input(\"Enter the value for 'Age': \"))\n",
    "NoofPregnancy = int(input(\"Enter the value for 'No of Pregnancy': \"))\n",
    "GestationinpreviousPregnancy= int(input(\"Enter the value for 'Gestation in previous Pregnancy': \"))\n",
    "BMI= float(input(\"Enter the value for 'BMI': \"))\n",
    "HDL= float(input(\"Enter the value for 'HDL': \"))\n",
    "FamilyHistory = int(input(\"Enter the value for 'Family History': \"))\n",
    "LargeChildorBirthDefault = int(input(\"Enter the value for 'Large Child or Birth Default': \"))\n",
    "PCOS = int(input(\"Enter the value for 'PCOS': \"))\n",
    "SysBP = float(input(\"Enter the value for 'Sys BP': \"))\n",
    "DiaBP = int(input(\"Enter the value for 'Dia BP': \"))\n",
    "OGTT = float(input(\"Enter the value for 'OGTT': \"))\n",
    "Hemoglobin = float(input(\"Enter the value for 'Hemoglobin': \"))\n",
    "SedentaryLifestyle = int(input(\"Enter the value for 'Sedentary Lifestyle': \"))\n",
    "Prediabetes = int(input(\"Enter the value for 'Prediabetes': \"))"
   ]
  },
  {
   "cell_type": "code",
   "execution_count": 56,
   "id": "f49e5e32-35fe-4784-991e-c7e4c9ac8068",
   "metadata": {},
   "outputs": [
    {
     "name": "stdout",
     "output_type": "stream",
     "text": [
      "The predicted value is: [1]\n"
     ]
    }
   ],
   "source": [
    "# Define input data with the required features\n",
    "input_data = [[Age, NoofPregnancy, GestationinpreviousPregnancy, BMI, HDL, FamilyHistory,\n",
    "               LargeChildorBirthDefault, PCOS, SysBP, DiaBP, OGTT, Hemoglobin,\n",
    "               SedentaryLifestyle, Prediabetes]]\n",
    "\n",
    "# Convert input data to a pandas DataFrame\n",
    "input_df = pd.DataFrame(input_data, columns=['Age', 'No of Pregnancy', 'Gestation in previous Pregnancy', 'BMI', 'HDL', \n",
    "                                              'Family History', 'Large Child or Birth Default', 'PCOS', 'Sys BP', \n",
    "                                              'Dia BP', 'OGTT', 'Hemoglobin', 'Sedentary Lifestyle', 'Prediabetes'])\n",
    "\n",
    "# Make predictions using the voting classifier\n",
    "prediction = xgb_classifier.predict(input_df)\n",
    "\n",
    "# Print the prediction\n",
    "print(\"The predicted value is:\", prediction)\n"
   ]
  },
  {
   "cell_type": "code",
   "execution_count": 57,
   "id": "294127b0-3ab7-48e1-89d5-2a246a2239df",
   "metadata": {},
   "outputs": [
    {
     "data": {
      "text/plain": [
       "['new_gestational.pkl']"
      ]
     },
     "execution_count": 57,
     "metadata": {},
     "output_type": "execute_result"
    }
   ],
   "source": [
    "import joblib\n",
    "\n",
    "# Assuming you have already trained a model named 'model'\n",
    "# Save the model to a file\n",
    "joblib.dump(xgb_classifier, 'new_gestational.pkl')"
   ]
  },
  {
   "cell_type": "code",
   "execution_count": 58,
   "id": "e64044ff-4f1d-4c97-a95f-5d9c85e0fd0b",
   "metadata": {},
   "outputs": [],
   "source": [
    "import pickle\n",
    "with open('new_gestational.pkl', 'wb') as f:\n",
    "    pickle.dump(xgb_classifier, f)"
   ]
  },
  {
   "cell_type": "code",
   "execution_count": null,
   "id": "30575e28-880c-4ba1-a032-4e919a05604e",
   "metadata": {},
   "outputs": [],
   "source": []
  }
 ],
 "metadata": {
  "kernelspec": {
   "display_name": "Python 3 (ipykernel)",
   "language": "python",
   "name": "python3"
  },
  "language_info": {
   "codemirror_mode": {
    "name": "ipython",
    "version": 3
   },
   "file_extension": ".py",
   "mimetype": "text/x-python",
   "name": "python",
   "nbconvert_exporter": "python",
   "pygments_lexer": "ipython3",
   "version": "3.9.18"
  }
 },
 "nbformat": 4,
 "nbformat_minor": 5
}
